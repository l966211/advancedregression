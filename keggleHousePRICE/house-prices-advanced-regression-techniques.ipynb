{
 "cells": [
  {
   "cell_type": "code",
   "execution_count": 1,
   "id": "73951407",
   "metadata": {
    "_cell_guid": "b1076dfc-b9ad-4769-8c92-a6c4dae69d19",
    "_uuid": "8f2839f25d086af736a60e9eeb907d3b93b6e0e5",
    "execution": {
     "iopub.execute_input": "2025-01-31T05:41:23.153939Z",
     "iopub.status.busy": "2025-01-31T05:41:23.153644Z",
     "iopub.status.idle": "2025-01-31T05:41:23.158697Z",
     "shell.execute_reply": "2025-01-31T05:41:23.158034Z"
    },
    "papermill": {
     "duration": 0.009155,
     "end_time": "2025-01-31T05:41:23.159969",
     "exception": false,
     "start_time": "2025-01-31T05:41:23.150814",
     "status": "completed"
    },
    "tags": []
   },
   "outputs": [],
   "source": [
    "# import pandas as pd\n",
    "# import numpy as np\n",
    "# from sklearn.ensemble import RandomForestRegressor, GradientBoostingRegressor, ExtraTreesRegressor, StackingRegressor\n",
    "# from catboost import CatBoostRegressor\n",
    "# from lightgbm import LGBMRegressor\n",
    "# from sklearn.linear_model import LinearRegression\n",
    "# from sklearn.model_selection import train_test_split\n",
    "# from sklearn.metrics import mean_squared_error\n",
    "# from sklearn.preprocessing import StandardScaler\n",
    "\n",
    "# # Load the data\n",
    "# train = pd.read_csv('/kaggle/input/house-prices-advanced-regression-techniques/train.csv')\n",
    "# test = pd.read_csv('/kaggle/input/house-prices-advanced-regression-techniques/test.csv')"
   ]
  },
  {
   "cell_type": "code",
   "execution_count": 2,
   "id": "dffab1d7",
   "metadata": {
    "execution": {
     "iopub.execute_input": "2025-01-31T05:41:23.163657Z",
     "iopub.status.busy": "2025-01-31T05:41:23.163443Z",
     "iopub.status.idle": "2025-01-31T05:44:18.167028Z",
     "shell.execute_reply": "2025-01-31T05:44:18.166088Z"
    },
    "papermill": {
     "duration": 175.007159,
     "end_time": "2025-01-31T05:44:18.168802",
     "exception": false,
     "start_time": "2025-01-31T05:41:23.161643",
     "status": "completed"
    },
    "tags": []
   },
   "outputs": [
    {
     "name": "stdout",
     "output_type": "stream",
     "text": [
      "Training XGBoost Model with Hyperparameter Tuning...\n",
      "Fitting 5 folds for each of 50 candidates, totalling 250 fits\n",
      "Best Hyperparameters: {'colsample_bytree': 0.7173952698872152, 'gamma': 0.007039911357542228, 'learning_rate': 0.06965272122664154, 'max_depth': 5, 'n_estimators': 518, 'reg_alpha': 0.7712703466859457, 'reg_lambda': 0.07404465173409036, 'subsample': 0.7433862914177091}\n",
      "XGBoost RMSE: 25323.559430992984\n",
      "Submission file saved as 'submission_xgboost_tuned.csv'.\n"
     ]
    }
   ],
   "source": [
    "import pandas as pd\n",
    "import numpy as np\n",
    "from sklearn.model_selection import train_test_split, RandomizedSearchCV\n",
    "from sklearn.metrics import mean_squared_error\n",
    "from xgboost import XGBRegressor\n",
    "from scipy.stats import randint, uniform\n",
    "\n",
    "# Load the data\n",
    "train = pd.read_csv('/kaggle/input/house-prices-advanced-regression-techniques/train.csv')\n",
    "test = pd.read_csv('/kaggle/input/house-prices-advanced-regression-techniques/test.csv')\n",
    "\n",
    "# Save the 'Id' column from the test set for submission\n",
    "test_ids = test['Id']\n",
    "\n",
    "# Preprocessing\n",
    "# Handle missing values, encode categorical variables, etc.\n",
    "# For simplicity, we'll drop columns with missing values and encode categorical variables with one-hot encoding.\n",
    "train = train.dropna(axis=1)\n",
    "test = test.dropna(axis=1)\n",
    "\n",
    "# Separate features and target\n",
    "X = train.drop(['Id', 'SalePrice'], axis=1)\n",
    "y = train['SalePrice']\n",
    "\n",
    "# One-hot encode categorical variables\n",
    "X = pd.get_dummies(X)\n",
    "test = pd.get_dummies(test)\n",
    "\n",
    "# Ensure the test set has the same columns as the training set\n",
    "X, test = X.align(test, join='left', axis=1, fill_value=0)\n",
    "\n",
    "# Split the data into training and validation sets\n",
    "X_train, X_val, y_train, y_val = train_test_split(X, y, test_size=0.2, random_state=42)\n",
    "\n",
    "# =============================================\n",
    "# XGBoost with Hyperparameter Tuning\n",
    "# =============================================\n",
    "print(\"Training XGBoost Model with Hyperparameter Tuning...\")\n",
    "\n",
    "# Define the XGBoost model\n",
    "xgb_model = XGBRegressor(random_state=42, n_jobs=-1)\n",
    "\n",
    "# Define the hyperparameter grid\n",
    "param_dist = {\n",
    "    'n_estimators': randint(100, 1000),  # Number of trees\n",
    "    'max_depth': randint(3, 10),         # Maximum depth of a tree\n",
    "    'learning_rate': uniform(0.01, 0.3), # Learning rate\n",
    "    'subsample': uniform(0.6, 0.4),      # Subsample ratio of the training instances\n",
    "    'colsample_bytree': uniform(0.6, 0.4), # Subsample ratio of columns when constructing each tree\n",
    "    'gamma': uniform(0, 0.5),            # Minimum loss reduction required to make a split\n",
    "    'reg_alpha': uniform(0, 1),          # L1 regularization term\n",
    "    'reg_lambda': uniform(0, 1)          # L2 regularization term\n",
    "}\n",
    "\n",
    "# Randomized Search for hyperparameter tuning\n",
    "random_search = RandomizedSearchCV(\n",
    "    estimator=xgb_model,\n",
    "    param_distributions=param_dist,\n",
    "    n_iter=50,  # Number of parameter settings sampled\n",
    "    scoring='neg_mean_squared_error',  # Use negative MSE for scoring\n",
    "    cv=5,  # 5-fold cross-validation\n",
    "    verbose=1,\n",
    "    random_state=42,\n",
    "    n_jobs=-1\n",
    ")\n",
    "\n",
    "# Fit the Randomized Search\n",
    "random_search.fit(X_train, y_train)\n",
    "\n",
    "# Best hyperparameters\n",
    "best_params = random_search.best_params_\n",
    "print(\"Best Hyperparameters:\", best_params)\n",
    "\n",
    "# Train the final model with the best hyperparameters\n",
    "best_xgb_model = XGBRegressor(**best_params, random_state=42, n_jobs=-1)\n",
    "best_xgb_model.fit(X_train, y_train)\n",
    "\n",
    "# Predict on the validation set\n",
    "y_pred_xgb = best_xgb_model.predict(X_val)\n",
    "\n",
    "# Evaluate XGBoost using RMSE\n",
    "rmse_xgb = np.sqrt(mean_squared_error(y_val, y_pred_xgb))\n",
    "print(f'XGBoost RMSE: {rmse_xgb}')\n",
    "\n",
    "# =============================================\n",
    "# Predict on the Test Set\n",
    "# =============================================\n",
    "# Use the tuned XGBoost model for final predictions\n",
    "test_pred_xgb = best_xgb_model.predict(test)\n",
    "\n",
    "# Create the submission file\n",
    "submission = pd.DataFrame({\n",
    "    'Id': test_ids,\n",
    "    'SalePrice': test_pred_xgb\n",
    "})\n",
    "\n",
    "# Save the submission file\n",
    "submission.to_csv('submission_xgboost_tuned.csv', index=False)\n",
    "print(\"Submission file saved as 'submission_xgboost_tuned.csv'.\")"
   ]
  }
 ],
 "metadata": {
  "kaggle": {
   "accelerator": "nvidiaTeslaT4",
   "dataSources": [
    {
     "databundleVersionId": 868283,
     "sourceId": 5407,
     "sourceType": "competition"
    }
   ],
   "dockerImageVersionId": 30839,
   "isGpuEnabled": true,
   "isInternetEnabled": true,
   "language": "python",
   "sourceType": "notebook"
  },
  "kernelspec": {
   "display_name": "Python 3 (ipykernel)",
   "language": "python",
   "name": "python3"
  },
  "language_info": {
   "codemirror_mode": {
    "name": "ipython",
    "version": 3
   },
   "file_extension": ".py",
   "mimetype": "text/x-python",
   "name": "python",
   "nbconvert_exporter": "python",
   "pygments_lexer": "ipython3",
   "version": "3.9.16"
  },
  "papermill": {
   "default_parameters": {},
   "duration": 178.480255,
   "end_time": "2025-01-31T05:44:18.788602",
   "environment_variables": {},
   "exception": null,
   "input_path": "__notebook__.ipynb",
   "output_path": "__notebook__.ipynb",
   "parameters": {},
   "start_time": "2025-01-31T05:41:20.308347",
   "version": "2.6.0"
  }
 },
 "nbformat": 4,
 "nbformat_minor": 5
}
